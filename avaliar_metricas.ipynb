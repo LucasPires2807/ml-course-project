{
 "cells": [
  {
   "cell_type": "code",
   "execution_count": null,
   "metadata": {},
   "outputs": [],
   "source": [
    "import pandas as pd\n",
    "import json"
   ]
  },
  {
   "cell_type": "code",
   "execution_count": null,
   "metadata": {},
   "outputs": [],
   "source": [
    "data = None\n",
    "with open('metrics.json', 'r') as f:\n",
    "    data = json.load(f)\n",
    "df = pd.DataFrame.from_dict(data, orient='index', columns=['Value']).reset_index()"
   ]
  },
  {
   "cell_type": "code",
   "execution_count": null,
   "metadata": {},
   "outputs": [],
   "source": [
    "df"
   ]
  },
  {
   "cell_type": "code",
   "execution_count": null,
   "metadata": {},
   "outputs": [],
   "source": [
    "# Map for full Base names\n",
    "base_name_map = {\n",
    "    \"hog_128_16\": \"HOG_128_16x16\",\n",
    "    \"hog_128_20\": \"HOG_128_20x20\",\n",
    "    \"hog_256_16\": \"HOG_256_16x16\",\n",
    "    \"hog_256_20\": \"HOG_256_20x20\",\n",
    "    \"cnn_16_avg_128\": \"CNN_VGG16_128_avg\",\n",
    "    \"cnn_16_max_128\": \"CNN_VGG16_128_max\",\n",
    "    \"cnn_19_avg_128\": \"CNN_VGG19_128_avg\",\n",
    "    \"cnn_19_max_128\": \"CNN_VGG19_128_max\",\n",
    "    \"cnn_16_avg_256\": \"CNN_VGG16_256_avg\",\n",
    "    \"cnn_16_max_256\": \"CNN_VGG16_256_max\",\n",
    "    \"cnn_19_avg_256\": \"CNN_VGG19_256_avg\",\n",
    "    \"cnn_19_max_256\": \"CNN_VGG19_256_max\",\n",
    "}\n",
    "\n",
    "# Extract information from the `index` column\n",
    "df[['Base', 'Type', 'k']] = df['index'].str.extract(r'^(.*?)_(kfold|holdout)_k=(\\d+)$')\n",
    "df['k'] = df['k'].astype(int)  # Convert `k` to integers\n",
    "df['Type'] = df['Type'].map({'kfold': '10-fold CV', 'holdout': '70/30'})  # Map types to descriptive names\n",
    "df['Base'] = df['Base'].map(base_name_map)  # Map Base to full names\n",
    "\n",
    "# import pdb; pdb.set_trace()\n",
    "# Drop the original `index` column\n",
    "df = df.drop(columns=['index'])\n",
    "\n",
    "# Pivot to reshape the DataFrame\n",
    "pivot_df = df.pivot_table(\n",
    "    index=['Base', 'Type'], \n",
    "    columns='k', \n",
    "    values='Value'\n",
    ").reset_index()\n",
    "\n",
    "# Format the columns for readability\n",
    "pivot_df.columns.name = None  # Remove the column group name\n",
    "pivot_df = pivot_df.rename_axis(None, axis=1)  # Clean index name\n",
    "\n",
    "pivot_df"
   ]
  },
  {
   "cell_type": "code",
   "execution_count": null,
   "metadata": {},
   "outputs": [],
   "source": [
    "pivot_df.to_csv('metricas.csv', index=False)"
   ]
  }
 ],
 "metadata": {
  "kernelspec": {
   "display_name": "venv",
   "language": "python",
   "name": "python3"
  },
  "language_info": {
   "codemirror_mode": {
    "name": "ipython",
    "version": 3
   },
   "file_extension": ".py",
   "mimetype": "text/x-python",
   "name": "python",
   "nbconvert_exporter": "python",
   "pygments_lexer": "ipython3",
   "version": "3.10.12"
  }
 },
 "nbformat": 4,
 "nbformat_minor": 2
}
