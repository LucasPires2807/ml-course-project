{
 "cells": [
  {
   "cell_type": "code",
   "execution_count": 2,
   "metadata": {},
   "outputs": [],
   "source": [
    "from sklearn.tree import DecisionTreeClassifier\n",
    "from sklearn.neighbors import KNeighborsClassifier\n",
    "from sklearn.naive_bayes import GaussianNB, MultinomialNB, ComplementNB\n",
    "from sklearn.neural_network import MLPClassifier\n",
    "\n",
    "from sklearn.ensemble import BaggingClassifier\n",
    "from sklearn.ensemble import AdaBoostClassifier\n",
    "from sklearn.ensemble import RandomForestClassifier\n",
    "from sklearn.ensemble import StackingClassifier\n",
    "from sklearn.ensemble import VotingClassifier\n",
    "\n",
    "import os\n",
    "import numpy\n",
    "\n",
    "from algorithm_wrapper import ModelWrapper"
   ]
  },
  {
   "cell_type": "code",
   "execution_count": 3,
   "metadata": {},
   "outputs": [
    {
     "name": "stdout",
     "output_type": "stream",
     "text": [
      "['selected_images_dog_cat/Abyssinian_1.jpg', 'selected_images_dog_cat/Abyssinian_10.jpg', 'selected_images_dog_cat/Abyssinian_100.jpg', 'selected_images_dog_cat/Abyssinian_101.jpg', 'selected_images_dog_cat/Abyssinian_102.jpg', 'selected_images_dog_cat/Abyssinian_103.jpg', 'selected_images_dog_cat/Abyssinian_104.jpg', 'selected_images_dog_cat/Abyssinian_105.jpg', 'selected_images_dog_cat/Abyssinian_106.jpg', 'selected_images_dog_cat/Abyssinian_107.jpg', 'selected_images_dog_cat/Abyssinian_108.jpg', 'selected_images_dog_cat/Abyssinian_109.jpg', 'selected_images_dog_cat/Abyssinian_11.jpg', 'selected_images_dog_cat/Abyssinian_110.jpg', 'selected_images_dog_cat/Abyssinian_111.jpg', 'selected_images_dog_cat/Abyssinian_112.jpg', 'selected_images_dog_cat/Abyssinian_113.jpg', 'selected_images_dog_cat/Abyssinian_114.jpg', 'selected_images_dog_cat/Abyssinian_115.jpg', 'selected_images_dog_cat/Abyssinian_116.jpg', 'selected_images_dog_cat/Abyssinian_117.jpg', 'selected_images_dog_cat/Abyssinian_118.jpg', 'selected_images_dog_cat/Abyssinian_119.jpg', 'selected_images_dog_cat/Abyssinian_12.jpg', 'selected_images_dog_cat/Abyssinian_120.jpg', 'selected_images_dog_cat/Abyssinian_121.jpg', 'selected_images_dog_cat/Abyssinian_122.jpg', 'selected_images_dog_cat/Abyssinian_123.jpg', 'selected_images_dog_cat/Abyssinian_124.jpg', 'selected_images_dog_cat/Abyssinian_125.jpg', 'selected_images_dog_cat/Abyssinian_126.jpg', 'selected_images_dog_cat/Abyssinian_127.jpg', 'selected_images_dog_cat/Abyssinian_128.jpg', 'selected_images_dog_cat/Abyssinian_129.jpg', 'selected_images_dog_cat/Abyssinian_13.jpg', 'selected_images_dog_cat/Abyssinian_130.jpg', 'selected_images_dog_cat/Abyssinian_131.jpg', 'selected_images_dog_cat/Abyssinian_132.jpg', 'selected_images_dog_cat/Abyssinian_133.jpg', 'selected_images_dog_cat/Abyssinian_134.jpg', 'selected_images_dog_cat/Abyssinian_135.jpg', 'selected_images_dog_cat/Abyssinian_136.jpg', 'selected_images_dog_cat/Abyssinian_137.jpg', 'selected_images_dog_cat/Abyssinian_138.jpg', 'selected_images_dog_cat/Abyssinian_139.jpg', 'selected_images_dog_cat/Abyssinian_14.jpg', 'selected_images_dog_cat/Abyssinian_140.jpg', 'selected_images_dog_cat/Abyssinian_141.jpg', 'selected_images_dog_cat/Abyssinian_142.jpg', 'selected_images_dog_cat/Abyssinian_143.jpg', 'selected_images_dog_cat/Abyssinian_144.jpg', 'selected_images_dog_cat/Abyssinian_145.jpg', 'selected_images_dog_cat/Abyssinian_146.jpg', 'selected_images_dog_cat/Abyssinian_148.jpg', 'selected_images_dog_cat/Abyssinian_149.jpg', 'selected_images_dog_cat/Abyssinian_15.jpg', 'selected_images_dog_cat/Abyssinian_150.jpg', 'selected_images_dog_cat/Abyssinian_151.jpg', 'selected_images_dog_cat/Abyssinian_152.jpg', 'selected_images_dog_cat/Abyssinian_153.jpg', 'selected_images_dog_cat/Abyssinian_154.jpg', 'selected_images_dog_cat/Abyssinian_155.jpg', 'selected_images_dog_cat/Abyssinian_156.jpg', 'selected_images_dog_cat/Abyssinian_157.jpg', 'selected_images_dog_cat/Abyssinian_158.jpg', 'selected_images_dog_cat/Abyssinian_159.jpg', 'selected_images_dog_cat/Abyssinian_16.jpg', 'selected_images_dog_cat/Abyssinian_160.jpg', 'selected_images_dog_cat/Abyssinian_161.jpg', 'selected_images_dog_cat/Abyssinian_164.jpg', 'selected_images_dog_cat/Abyssinian_165.jpg', 'selected_images_dog_cat/Abyssinian_166.jpg', 'selected_images_dog_cat/Abyssinian_167.jpg', 'selected_images_dog_cat/Abyssinian_168.jpg', 'selected_images_dog_cat/Abyssinian_169.jpg', 'selected_images_dog_cat/Abyssinian_17.jpg', 'selected_images_dog_cat/Abyssinian_170.jpg', 'selected_images_dog_cat/Abyssinian_172.jpg', 'selected_images_dog_cat/Abyssinian_173.jpg', 'selected_images_dog_cat/Abyssinian_174.jpg', 'selected_images_dog_cat/Abyssinian_175.jpg', 'selected_images_dog_cat/Abyssinian_176.jpg', 'selected_images_dog_cat/Abyssinian_177.jpg', 'selected_images_dog_cat/Abyssinian_178.jpg', 'selected_images_dog_cat/Abyssinian_179.jpg', 'selected_images_dog_cat/Abyssinian_18.jpg', 'selected_images_dog_cat/Abyssinian_180.jpg', 'selected_images_dog_cat/Abyssinian_181.jpg', 'selected_images_dog_cat/Abyssinian_182.jpg', 'selected_images_dog_cat/Abyssinian_183.jpg', 'selected_images_dog_cat/Abyssinian_184.jpg', 'selected_images_dog_cat/Abyssinian_185.jpg', 'selected_images_dog_cat/Abyssinian_19.jpg', 'selected_images_dog_cat/Abyssinian_190.jpg', 'selected_images_dog_cat/Abyssinian_191.jpg', 'selected_images_dog_cat/Abyssinian_192.jpg', 'selected_images_dog_cat/Abyssinian_193.jpg', 'selected_images_dog_cat/Abyssinian_195.jpg', 'selected_images_dog_cat/Abyssinian_196.jpg', 'selected_images_dog_cat/Abyssinian_197.jpg', 'selected_images_dog_cat/Abyssinian_2.jpg', 'selected_images_dog_cat/Abyssinian_20.jpg', 'selected_images_dog_cat/Abyssinian_201.jpg', 'selected_images_dog_cat/Abyssinian_202.jpg', 'selected_images_dog_cat/Abyssinian_204.jpg', 'selected_images_dog_cat/Abyssinian_205.jpg', 'selected_images_dog_cat/Abyssinian_206.jpg', 'selected_images_dog_cat/Abyssinian_207.jpg', 'selected_images_dog_cat/Abyssinian_21.jpg', 'selected_images_dog_cat/Abyssinian_210.jpg', 'selected_images_dog_cat/Abyssinian_212.jpg', 'selected_images_dog_cat/Abyssinian_213.jpg', 'selected_images_dog_cat/Abyssinian_215.jpg', 'selected_images_dog_cat/Abyssinian_216.jpg', 'selected_images_dog_cat/Abyssinian_217.jpg', 'selected_images_dog_cat/Abyssinian_219.jpg', 'selected_images_dog_cat/Abyssinian_22.jpg', 'selected_images_dog_cat/Abyssinian_220.jpg', 'selected_images_dog_cat/Abyssinian_221.jpg', 'selected_images_dog_cat/Abyssinian_223.jpg', 'selected_images_dog_cat/Abyssinian_224.jpg', 'selected_images_dog_cat/Abyssinian_225.jpg', 'selected_images_dog_cat/Abyssinian_226.jpg', 'selected_images_dog_cat/Abyssinian_228.jpg', 'selected_images_dog_cat/Abyssinian_230.jpg', 'selected_images_dog_cat/Abyssinian_232.jpg', 'selected_images_dog_cat/Abyssinian_24.jpg', 'selected_images_dog_cat/Abyssinian_25.jpg', 'selected_images_dog_cat/Abyssinian_26.jpg', 'selected_images_dog_cat/Abyssinian_27.jpg', 'selected_images_dog_cat/Abyssinian_29.jpg', 'selected_images_dog_cat/Abyssinian_3.jpg', 'selected_images_dog_cat/Abyssinian_30.jpg', 'selected_images_dog_cat/Abyssinian_31.jpg', 'selected_images_dog_cat/Abyssinian_32.jpg', 'selected_images_dog_cat/Abyssinian_33.jpg', 'selected_images_dog_cat/Abyssinian_36.jpg', 'selected_images_dog_cat/Abyssinian_37.jpg', 'selected_images_dog_cat/Abyssinian_4.jpg', 'selected_images_dog_cat/Abyssinian_40.jpg', 'selected_images_dog_cat/Abyssinian_43.jpg', 'selected_images_dog_cat/Abyssinian_44.jpg', 'selected_images_dog_cat/Abyssinian_45.jpg', 'selected_images_dog_cat/Abyssinian_46.jpg', 'selected_images_dog_cat/Abyssinian_47.jpg', 'selected_images_dog_cat/Abyssinian_48.jpg', 'selected_images_dog_cat/Abyssinian_49.jpg', 'selected_images_dog_cat/Abyssinian_50.jpg', 'selected_images_dog_cat/Abyssinian_51.jpg', 'selected_images_dog_cat/Abyssinian_52.jpg', 'selected_images_dog_cat/Abyssinian_54.jpg', 'selected_images_dog_cat/Abyssinian_55.jpg', 'selected_images_dog_cat/Abyssinian_56.jpg', 'selected_images_dog_cat/Abyssinian_57.jpg', 'selected_images_dog_cat/Abyssinian_58.jpg', 'selected_images_dog_cat/Abyssinian_6.jpg', 'selected_images_dog_cat/Abyssinian_60.jpg', 'selected_images_dog_cat/Abyssinian_61.jpg', 'selected_images_dog_cat/Abyssinian_62.jpg', 'selected_images_dog_cat/Abyssinian_63.jpg', 'selected_images_dog_cat/Abyssinian_65.jpg', 'selected_images_dog_cat/Abyssinian_66.jpg', 'selected_images_dog_cat/Abyssinian_67.jpg', 'selected_images_dog_cat/Abyssinian_68.jpg', 'selected_images_dog_cat/Abyssinian_69.jpg', 'selected_images_dog_cat/Abyssinian_7.jpg', 'selected_images_dog_cat/Abyssinian_70.jpg', 'selected_images_dog_cat/Abyssinian_71.jpg', 'selected_images_dog_cat/Abyssinian_72.jpg', 'selected_images_dog_cat/Abyssinian_73.jpg', 'selected_images_dog_cat/Abyssinian_74.jpg', 'selected_images_dog_cat/Abyssinian_75.jpg', 'selected_images_dog_cat/Abyssinian_76.jpg', 'selected_images_dog_cat/Abyssinian_77.jpg', 'selected_images_dog_cat/Abyssinian_78.jpg', 'selected_images_dog_cat/Abyssinian_79.jpg', 'selected_images_dog_cat/Abyssinian_8.jpg', 'selected_images_dog_cat/Abyssinian_80.jpg', 'selected_images_dog_cat/Abyssinian_81.jpg', 'selected_images_dog_cat/Abyssinian_82.jpg', 'selected_images_dog_cat/Abyssinian_83.jpg', 'selected_images_dog_cat/Abyssinian_84.jpg', 'selected_images_dog_cat/Abyssinian_85.jpg', 'selected_images_dog_cat/Abyssinian_86.jpg', 'selected_images_dog_cat/Abyssinian_87.jpg', 'selected_images_dog_cat/Abyssinian_88.jpg', 'selected_images_dog_cat/Abyssinian_89.jpg', 'selected_images_dog_cat/Abyssinian_9.jpg', 'selected_images_dog_cat/Abyssinian_90.jpg', 'selected_images_dog_cat/Abyssinian_91.jpg', 'selected_images_dog_cat/Abyssinian_92.jpg', 'selected_images_dog_cat/Abyssinian_93.jpg', 'selected_images_dog_cat/Abyssinian_94.jpg', 'selected_images_dog_cat/Abyssinian_95.jpg', 'selected_images_dog_cat/Abyssinian_96.jpg', 'selected_images_dog_cat/Abyssinian_97.jpg', 'selected_images_dog_cat/Abyssinian_98.jpg', 'selected_images_dog_cat/Abyssinian_99.jpg', 'selected_images_dog_cat/boxer_1.jpg', 'selected_images_dog_cat/boxer_10.jpg', 'selected_images_dog_cat/boxer_100.jpg', 'selected_images_dog_cat/boxer_101.jpg', 'selected_images_dog_cat/boxer_102.jpg', 'selected_images_dog_cat/boxer_103.jpg', 'selected_images_dog_cat/boxer_104.jpg', 'selected_images_dog_cat/boxer_105.jpg', 'selected_images_dog_cat/boxer_106.jpg', 'selected_images_dog_cat/boxer_107.jpg', 'selected_images_dog_cat/boxer_108.jpg', 'selected_images_dog_cat/boxer_109.jpg', 'selected_images_dog_cat/boxer_11.jpg', 'selected_images_dog_cat/boxer_110.jpg', 'selected_images_dog_cat/boxer_111.jpg', 'selected_images_dog_cat/boxer_112.jpg', 'selected_images_dog_cat/boxer_113.jpg', 'selected_images_dog_cat/boxer_114.jpg', 'selected_images_dog_cat/boxer_115.jpg', 'selected_images_dog_cat/boxer_116.jpg', 'selected_images_dog_cat/boxer_117.jpg', 'selected_images_dog_cat/boxer_118.jpg', 'selected_images_dog_cat/boxer_119.jpg', 'selected_images_dog_cat/boxer_12.jpg', 'selected_images_dog_cat/boxer_120.jpg', 'selected_images_dog_cat/boxer_121.jpg', 'selected_images_dog_cat/boxer_122.jpg', 'selected_images_dog_cat/boxer_123.jpg', 'selected_images_dog_cat/boxer_124.jpg', 'selected_images_dog_cat/boxer_125.jpg', 'selected_images_dog_cat/boxer_126.jpg', 'selected_images_dog_cat/boxer_127.jpg', 'selected_images_dog_cat/boxer_128.jpg', 'selected_images_dog_cat/boxer_129.jpg', 'selected_images_dog_cat/boxer_13.jpg', 'selected_images_dog_cat/boxer_130.jpg', 'selected_images_dog_cat/boxer_131.jpg', 'selected_images_dog_cat/boxer_132.jpg', 'selected_images_dog_cat/boxer_133.jpg', 'selected_images_dog_cat/boxer_134.jpg', 'selected_images_dog_cat/boxer_135.jpg', 'selected_images_dog_cat/boxer_136.jpg', 'selected_images_dog_cat/boxer_137.jpg', 'selected_images_dog_cat/boxer_138.jpg', 'selected_images_dog_cat/boxer_139.jpg', 'selected_images_dog_cat/boxer_14.jpg', 'selected_images_dog_cat/boxer_140.jpg', 'selected_images_dog_cat/boxer_141.jpg', 'selected_images_dog_cat/boxer_142.jpg', 'selected_images_dog_cat/boxer_143.jpg', 'selected_images_dog_cat/boxer_144.jpg', 'selected_images_dog_cat/boxer_145.jpg', 'selected_images_dog_cat/boxer_146.jpg', 'selected_images_dog_cat/boxer_147.jpg', 'selected_images_dog_cat/boxer_148.jpg', 'selected_images_dog_cat/boxer_149.jpg', 'selected_images_dog_cat/boxer_15.jpg', 'selected_images_dog_cat/boxer_150.jpg', 'selected_images_dog_cat/boxer_151.jpg', 'selected_images_dog_cat/boxer_152.jpg', 'selected_images_dog_cat/boxer_153.jpg', 'selected_images_dog_cat/boxer_154.jpg', 'selected_images_dog_cat/boxer_155.jpg', 'selected_images_dog_cat/boxer_156.jpg', 'selected_images_dog_cat/boxer_157.jpg', 'selected_images_dog_cat/boxer_158.jpg', 'selected_images_dog_cat/boxer_159.jpg', 'selected_images_dog_cat/boxer_16.jpg', 'selected_images_dog_cat/boxer_160.jpg', 'selected_images_dog_cat/boxer_161.jpg', 'selected_images_dog_cat/boxer_162.jpg', 'selected_images_dog_cat/boxer_163.jpg', 'selected_images_dog_cat/boxer_164.jpg', 'selected_images_dog_cat/boxer_165.jpg', 'selected_images_dog_cat/boxer_166.jpg', 'selected_images_dog_cat/boxer_167.jpg', 'selected_images_dog_cat/boxer_168.jpg', 'selected_images_dog_cat/boxer_169.jpg', 'selected_images_dog_cat/boxer_17.jpg', 'selected_images_dog_cat/boxer_170.jpg', 'selected_images_dog_cat/boxer_171.jpg', 'selected_images_dog_cat/boxer_172.jpg', 'selected_images_dog_cat/boxer_173.jpg', 'selected_images_dog_cat/boxer_174.jpg', 'selected_images_dog_cat/boxer_175.jpg', 'selected_images_dog_cat/boxer_176.jpg', 'selected_images_dog_cat/boxer_177.jpg', 'selected_images_dog_cat/boxer_178.jpg', 'selected_images_dog_cat/boxer_179.jpg', 'selected_images_dog_cat/boxer_18.jpg', 'selected_images_dog_cat/boxer_180.jpg', 'selected_images_dog_cat/boxer_181.jpg', 'selected_images_dog_cat/boxer_182.jpg', 'selected_images_dog_cat/boxer_183.jpg', 'selected_images_dog_cat/boxer_184.jpg', 'selected_images_dog_cat/boxer_185.jpg', 'selected_images_dog_cat/boxer_186.jpg', 'selected_images_dog_cat/boxer_187.jpg', 'selected_images_dog_cat/boxer_188.jpg', 'selected_images_dog_cat/boxer_189.jpg', 'selected_images_dog_cat/boxer_19.jpg', 'selected_images_dog_cat/boxer_190.jpg', 'selected_images_dog_cat/boxer_191.jpg', 'selected_images_dog_cat/boxer_192.jpg', 'selected_images_dog_cat/boxer_193.jpg', 'selected_images_dog_cat/boxer_194.jpg', 'selected_images_dog_cat/boxer_195.jpg', 'selected_images_dog_cat/boxer_196.jpg', 'selected_images_dog_cat/boxer_197.jpg', 'selected_images_dog_cat/boxer_198.jpg', 'selected_images_dog_cat/boxer_199.jpg', 'selected_images_dog_cat/boxer_2.jpg', 'selected_images_dog_cat/boxer_20.jpg', 'selected_images_dog_cat/boxer_200.jpg', 'selected_images_dog_cat/boxer_21.jpg', 'selected_images_dog_cat/boxer_22.jpg', 'selected_images_dog_cat/boxer_23.jpg', 'selected_images_dog_cat/boxer_24.jpg', 'selected_images_dog_cat/boxer_25.jpg', 'selected_images_dog_cat/boxer_26.jpg', 'selected_images_dog_cat/boxer_27.jpg', 'selected_images_dog_cat/boxer_28.jpg', 'selected_images_dog_cat/boxer_29.jpg', 'selected_images_dog_cat/boxer_3.jpg', 'selected_images_dog_cat/boxer_30.jpg', 'selected_images_dog_cat/boxer_31.jpg', 'selected_images_dog_cat/boxer_32.jpg', 'selected_images_dog_cat/boxer_33.jpg', 'selected_images_dog_cat/boxer_34.jpg', 'selected_images_dog_cat/boxer_35.jpg', 'selected_images_dog_cat/boxer_36.jpg', 'selected_images_dog_cat/boxer_37.jpg', 'selected_images_dog_cat/boxer_38.jpg', 'selected_images_dog_cat/boxer_39.jpg', 'selected_images_dog_cat/boxer_4.jpg', 'selected_images_dog_cat/boxer_40.jpg', 'selected_images_dog_cat/boxer_41.jpg', 'selected_images_dog_cat/boxer_42.jpg', 'selected_images_dog_cat/boxer_43.jpg', 'selected_images_dog_cat/boxer_44.jpg', 'selected_images_dog_cat/boxer_45.jpg', 'selected_images_dog_cat/boxer_46.jpg', 'selected_images_dog_cat/boxer_47.jpg', 'selected_images_dog_cat/boxer_48.jpg', 'selected_images_dog_cat/boxer_49.jpg', 'selected_images_dog_cat/boxer_5.jpg', 'selected_images_dog_cat/boxer_50.jpg', 'selected_images_dog_cat/boxer_51.jpg', 'selected_images_dog_cat/boxer_52.jpg', 'selected_images_dog_cat/boxer_53.jpg', 'selected_images_dog_cat/boxer_54.jpg', 'selected_images_dog_cat/boxer_55.jpg', 'selected_images_dog_cat/boxer_56.jpg', 'selected_images_dog_cat/boxer_57.jpg', 'selected_images_dog_cat/boxer_58.jpg', 'selected_images_dog_cat/boxer_59.jpg', 'selected_images_dog_cat/boxer_6.jpg', 'selected_images_dog_cat/boxer_60.jpg', 'selected_images_dog_cat/boxer_61.jpg', 'selected_images_dog_cat/boxer_62.jpg', 'selected_images_dog_cat/boxer_63.jpg', 'selected_images_dog_cat/boxer_64.jpg', 'selected_images_dog_cat/boxer_65.jpg', 'selected_images_dog_cat/boxer_66.jpg', 'selected_images_dog_cat/boxer_67.jpg', 'selected_images_dog_cat/boxer_68.jpg', 'selected_images_dog_cat/boxer_69.jpg', 'selected_images_dog_cat/boxer_7.jpg', 'selected_images_dog_cat/boxer_70.jpg', 'selected_images_dog_cat/boxer_71.jpg', 'selected_images_dog_cat/boxer_72.jpg', 'selected_images_dog_cat/boxer_73.jpg', 'selected_images_dog_cat/boxer_74.jpg', 'selected_images_dog_cat/boxer_75.jpg', 'selected_images_dog_cat/boxer_76.jpg', 'selected_images_dog_cat/boxer_77.jpg', 'selected_images_dog_cat/boxer_78.jpg', 'selected_images_dog_cat/boxer_79.jpg', 'selected_images_dog_cat/boxer_8.jpg', 'selected_images_dog_cat/boxer_80.jpg', 'selected_images_dog_cat/boxer_81.jpg', 'selected_images_dog_cat/boxer_82.jpg', 'selected_images_dog_cat/boxer_83.jpg', 'selected_images_dog_cat/boxer_84.jpg', 'selected_images_dog_cat/boxer_85.jpg', 'selected_images_dog_cat/boxer_86.jpg', 'selected_images_dog_cat/boxer_87.jpg', 'selected_images_dog_cat/boxer_88.jpg', 'selected_images_dog_cat/boxer_89.jpg', 'selected_images_dog_cat/boxer_9.jpg', 'selected_images_dog_cat/boxer_90.jpg', 'selected_images_dog_cat/boxer_91.jpg', 'selected_images_dog_cat/boxer_92.jpg', 'selected_images_dog_cat/boxer_93.jpg', 'selected_images_dog_cat/boxer_94.jpg', 'selected_images_dog_cat/boxer_95.jpg', 'selected_images_dog_cat/boxer_96.jpg', 'selected_images_dog_cat/boxer_97.jpg', 'selected_images_dog_cat/boxer_98.jpg', 'selected_images_dog_cat/boxer_99.jpg', 'selected_images_dog_cat/Siamese_100.jpg', 'selected_images_dog_cat/Siamese_101.jpg', 'selected_images_dog_cat/Siamese_102.jpg', 'selected_images_dog_cat/Siamese_103.jpg', 'selected_images_dog_cat/Siamese_104.jpg', 'selected_images_dog_cat/Siamese_106.jpg', 'selected_images_dog_cat/Siamese_108.jpg', 'selected_images_dog_cat/Siamese_109.jpg', 'selected_images_dog_cat/Siamese_110.jpg', 'selected_images_dog_cat/Siamese_111.jpg', 'selected_images_dog_cat/Siamese_112.jpg', 'selected_images_dog_cat/Siamese_113.jpg', 'selected_images_dog_cat/Siamese_114.jpg', 'selected_images_dog_cat/Siamese_115.jpg', 'selected_images_dog_cat/Siamese_116.jpg', 'selected_images_dog_cat/Siamese_117.jpg', 'selected_images_dog_cat/Siamese_119.jpg', 'selected_images_dog_cat/Siamese_120.jpg', 'selected_images_dog_cat/Siamese_122.jpg', 'selected_images_dog_cat/Siamese_125.jpg', 'selected_images_dog_cat/Siamese_126.jpg', 'selected_images_dog_cat/Siamese_127.jpg', 'selected_images_dog_cat/Siamese_128.jpg', 'selected_images_dog_cat/Siamese_129.jpg', 'selected_images_dog_cat/Siamese_130.jpg', 'selected_images_dog_cat/Siamese_131.jpg', 'selected_images_dog_cat/Siamese_133.jpg', 'selected_images_dog_cat/Siamese_135.jpg', 'selected_images_dog_cat/Siamese_136.jpg', 'selected_images_dog_cat/Siamese_137.jpg', 'selected_images_dog_cat/Siamese_138.jpg', 'selected_images_dog_cat/Siamese_139.jpg', 'selected_images_dog_cat/Siamese_14.jpg', 'selected_images_dog_cat/Siamese_140.jpg', 'selected_images_dog_cat/Siamese_141.jpg', 'selected_images_dog_cat/Siamese_142.jpg', 'selected_images_dog_cat/Siamese_143.jpg', 'selected_images_dog_cat/Siamese_144.jpg', 'selected_images_dog_cat/Siamese_145.jpg', 'selected_images_dog_cat/Siamese_146.jpg', 'selected_images_dog_cat/Siamese_147.jpg', 'selected_images_dog_cat/Siamese_148.jpg', 'selected_images_dog_cat/Siamese_149.jpg', 'selected_images_dog_cat/Siamese_150.jpg', 'selected_images_dog_cat/Siamese_151.jpg', 'selected_images_dog_cat/Siamese_152.jpg', 'selected_images_dog_cat/Siamese_153.jpg', 'selected_images_dog_cat/Siamese_154.jpg', 'selected_images_dog_cat/Siamese_155.jpg', 'selected_images_dog_cat/Siamese_156.jpg', 'selected_images_dog_cat/Siamese_157.jpg', 'selected_images_dog_cat/Siamese_158.jpg', 'selected_images_dog_cat/Siamese_159.jpg', 'selected_images_dog_cat/Siamese_160.jpg', 'selected_images_dog_cat/Siamese_161.jpg', 'selected_images_dog_cat/Siamese_162.jpg', 'selected_images_dog_cat/Siamese_163.jpg', 'selected_images_dog_cat/Siamese_164.jpg', 'selected_images_dog_cat/Siamese_165.jpg', 'selected_images_dog_cat/Siamese_167.jpg', 'selected_images_dog_cat/Siamese_168.jpg', 'selected_images_dog_cat/Siamese_169.jpg', 'selected_images_dog_cat/Siamese_17.jpg', 'selected_images_dog_cat/Siamese_170.jpg', 'selected_images_dog_cat/Siamese_171.jpg', 'selected_images_dog_cat/Siamese_172.jpg', 'selected_images_dog_cat/Siamese_173.jpg', 'selected_images_dog_cat/Siamese_174.jpg', 'selected_images_dog_cat/Siamese_175.jpg', 'selected_images_dog_cat/Siamese_176.jpg', 'selected_images_dog_cat/Siamese_178.jpg', 'selected_images_dog_cat/Siamese_179.jpg', 'selected_images_dog_cat/Siamese_18.jpg', 'selected_images_dog_cat/Siamese_180.jpg', 'selected_images_dog_cat/Siamese_181.jpg', 'selected_images_dog_cat/Siamese_182.jpg', 'selected_images_dog_cat/Siamese_183.jpg', 'selected_images_dog_cat/Siamese_184.jpg', 'selected_images_dog_cat/Siamese_185.jpg', 'selected_images_dog_cat/Siamese_186.jpg', 'selected_images_dog_cat/Siamese_187.jpg', 'selected_images_dog_cat/Siamese_188.jpg', 'selected_images_dog_cat/Siamese_189.jpg', 'selected_images_dog_cat/Siamese_19.jpg', 'selected_images_dog_cat/Siamese_191.jpg', 'selected_images_dog_cat/Siamese_193.jpg', 'selected_images_dog_cat/Siamese_194.jpg', 'selected_images_dog_cat/Siamese_195.jpg', 'selected_images_dog_cat/Siamese_196.jpg', 'selected_images_dog_cat/Siamese_198.jpg', 'selected_images_dog_cat/Siamese_199.jpg', 'selected_images_dog_cat/Siamese_20.jpg', 'selected_images_dog_cat/Siamese_200.jpg', 'selected_images_dog_cat/Siamese_201.jpg', 'selected_images_dog_cat/Siamese_202.jpg', 'selected_images_dog_cat/Siamese_203.jpg', 'selected_images_dog_cat/Siamese_204.jpg', 'selected_images_dog_cat/Siamese_205.jpg', 'selected_images_dog_cat/Siamese_206.jpg', 'selected_images_dog_cat/Siamese_207.jpg', 'selected_images_dog_cat/Siamese_208.jpg', 'selected_images_dog_cat/Siamese_209.jpg', 'selected_images_dog_cat/Siamese_21.jpg', 'selected_images_dog_cat/Siamese_210.jpg', 'selected_images_dog_cat/Siamese_216.jpg', 'selected_images_dog_cat/Siamese_218.jpg', 'selected_images_dog_cat/Siamese_22.jpg', 'selected_images_dog_cat/Siamese_222.jpg', 'selected_images_dog_cat/Siamese_224.jpg', 'selected_images_dog_cat/Siamese_225.jpg', 'selected_images_dog_cat/Siamese_227.jpg', 'selected_images_dog_cat/Siamese_228.jpg', 'selected_images_dog_cat/Siamese_23.jpg', 'selected_images_dog_cat/Siamese_231.jpg', 'selected_images_dog_cat/Siamese_232.jpg', 'selected_images_dog_cat/Siamese_233.jpg', 'selected_images_dog_cat/Siamese_234.jpg', 'selected_images_dog_cat/Siamese_237.jpg', 'selected_images_dog_cat/Siamese_238.jpg', 'selected_images_dog_cat/Siamese_24.jpg', 'selected_images_dog_cat/Siamese_240.jpg', 'selected_images_dog_cat/Siamese_247.jpg', 'selected_images_dog_cat/Siamese_249.jpg', 'selected_images_dog_cat/Siamese_25.jpg', 'selected_images_dog_cat/Siamese_250.jpg', 'selected_images_dog_cat/Siamese_254.jpg', 'selected_images_dog_cat/Siamese_257.jpg', 'selected_images_dog_cat/Siamese_26.jpg', 'selected_images_dog_cat/Siamese_27.jpg', 'selected_images_dog_cat/Siamese_28.jpg', 'selected_images_dog_cat/Siamese_29.jpg', 'selected_images_dog_cat/Siamese_30.jpg', 'selected_images_dog_cat/Siamese_31.jpg', 'selected_images_dog_cat/Siamese_32.jpg', 'selected_images_dog_cat/Siamese_33.jpg', 'selected_images_dog_cat/Siamese_34.jpg', 'selected_images_dog_cat/Siamese_35.jpg', 'selected_images_dog_cat/Siamese_36.jpg', 'selected_images_dog_cat/Siamese_37.jpg', 'selected_images_dog_cat/Siamese_39.jpg', 'selected_images_dog_cat/Siamese_40.jpg', 'selected_images_dog_cat/Siamese_41.jpg', 'selected_images_dog_cat/Siamese_42.jpg', 'selected_images_dog_cat/Siamese_43.jpg', 'selected_images_dog_cat/Siamese_44.jpg', 'selected_images_dog_cat/Siamese_46.jpg', 'selected_images_dog_cat/Siamese_47.jpg', 'selected_images_dog_cat/Siamese_48.jpg', 'selected_images_dog_cat/Siamese_49.jpg', 'selected_images_dog_cat/Siamese_5.jpg', 'selected_images_dog_cat/Siamese_50.jpg', 'selected_images_dog_cat/Siamese_51.jpg', 'selected_images_dog_cat/Siamese_52.jpg', 'selected_images_dog_cat/Siamese_53.jpg', 'selected_images_dog_cat/Siamese_54.jpg', 'selected_images_dog_cat/Siamese_55.jpg', 'selected_images_dog_cat/Siamese_56.jpg', 'selected_images_dog_cat/Siamese_57.jpg', 'selected_images_dog_cat/Siamese_58.jpg', 'selected_images_dog_cat/Siamese_59.jpg', 'selected_images_dog_cat/Siamese_6.jpg', 'selected_images_dog_cat/Siamese_60.jpg', 'selected_images_dog_cat/Siamese_61.jpg', 'selected_images_dog_cat/Siamese_63.jpg', 'selected_images_dog_cat/Siamese_64.jpg', 'selected_images_dog_cat/Siamese_65.jpg', 'selected_images_dog_cat/Siamese_66.jpg', 'selected_images_dog_cat/Siamese_67.jpg', 'selected_images_dog_cat/Siamese_69.jpg', 'selected_images_dog_cat/Siamese_70.jpg', 'selected_images_dog_cat/Siamese_71.jpg', 'selected_images_dog_cat/Siamese_72.jpg', 'selected_images_dog_cat/Siamese_73.jpg', 'selected_images_dog_cat/Siamese_74.jpg', 'selected_images_dog_cat/Siamese_75.jpg', 'selected_images_dog_cat/Siamese_76.jpg', 'selected_images_dog_cat/Siamese_77.jpg', 'selected_images_dog_cat/Siamese_78.jpg', 'selected_images_dog_cat/Siamese_79.jpg', 'selected_images_dog_cat/Siamese_80.jpg', 'selected_images_dog_cat/Siamese_81.jpg', 'selected_images_dog_cat/Siamese_82.jpg', 'selected_images_dog_cat/Siamese_83.jpg', 'selected_images_dog_cat/Siamese_84.jpg', 'selected_images_dog_cat/Siamese_85.jpg', 'selected_images_dog_cat/Siamese_86.jpg', 'selected_images_dog_cat/Siamese_87.jpg', 'selected_images_dog_cat/Siamese_88.jpg', 'selected_images_dog_cat/Siamese_89.jpg', 'selected_images_dog_cat/Siamese_9.jpg', 'selected_images_dog_cat/Siamese_90.jpg', 'selected_images_dog_cat/Siamese_91.jpg', 'selected_images_dog_cat/Siamese_92.jpg', 'selected_images_dog_cat/Siamese_93.jpg', 'selected_images_dog_cat/Siamese_94.jpg', 'selected_images_dog_cat/Siamese_95.jpg', 'selected_images_dog_cat/Siamese_96.jpg', 'selected_images_dog_cat/Siamese_97.jpg', 'selected_images_dog_cat/Siamese_98.jpg', 'selected_images_dog_cat/Siamese_99.jpg', 'selected_images_dog_cat/wheaten_terrier_1.jpg', 'selected_images_dog_cat/wheaten_terrier_10.jpg', 'selected_images_dog_cat/wheaten_terrier_100.jpg', 'selected_images_dog_cat/wheaten_terrier_101.jpg', 'selected_images_dog_cat/wheaten_terrier_102.jpg', 'selected_images_dog_cat/wheaten_terrier_103.jpg', 'selected_images_dog_cat/wheaten_terrier_104.jpg', 'selected_images_dog_cat/wheaten_terrier_105.jpg', 'selected_images_dog_cat/wheaten_terrier_106.jpg', 'selected_images_dog_cat/wheaten_terrier_107.jpg', 'selected_images_dog_cat/wheaten_terrier_108.jpg', 'selected_images_dog_cat/wheaten_terrier_109.jpg', 'selected_images_dog_cat/wheaten_terrier_11.jpg', 'selected_images_dog_cat/wheaten_terrier_110.jpg', 'selected_images_dog_cat/wheaten_terrier_111.jpg', 'selected_images_dog_cat/wheaten_terrier_112.jpg', 'selected_images_dog_cat/wheaten_terrier_113.jpg', 'selected_images_dog_cat/wheaten_terrier_114.jpg', 'selected_images_dog_cat/wheaten_terrier_115.jpg', 'selected_images_dog_cat/wheaten_terrier_116.jpg', 'selected_images_dog_cat/wheaten_terrier_117.jpg', 'selected_images_dog_cat/wheaten_terrier_118.jpg', 'selected_images_dog_cat/wheaten_terrier_119.jpg', 'selected_images_dog_cat/wheaten_terrier_12.jpg', 'selected_images_dog_cat/wheaten_terrier_120.jpg', 'selected_images_dog_cat/wheaten_terrier_121.jpg', 'selected_images_dog_cat/wheaten_terrier_122.jpg', 'selected_images_dog_cat/wheaten_terrier_123.jpg', 'selected_images_dog_cat/wheaten_terrier_124.jpg', 'selected_images_dog_cat/wheaten_terrier_125.jpg', 'selected_images_dog_cat/wheaten_terrier_126.jpg', 'selected_images_dog_cat/wheaten_terrier_127.jpg', 'selected_images_dog_cat/wheaten_terrier_128.jpg', 'selected_images_dog_cat/wheaten_terrier_129.jpg', 'selected_images_dog_cat/wheaten_terrier_13.jpg', 'selected_images_dog_cat/wheaten_terrier_130.jpg', 'selected_images_dog_cat/wheaten_terrier_131.jpg', 'selected_images_dog_cat/wheaten_terrier_132.jpg', 'selected_images_dog_cat/wheaten_terrier_133.jpg', 'selected_images_dog_cat/wheaten_terrier_134.jpg', 'selected_images_dog_cat/wheaten_terrier_135.jpg', 'selected_images_dog_cat/wheaten_terrier_136.jpg', 'selected_images_dog_cat/wheaten_terrier_137.jpg', 'selected_images_dog_cat/wheaten_terrier_138.jpg', 'selected_images_dog_cat/wheaten_terrier_139.jpg', 'selected_images_dog_cat/wheaten_terrier_14.jpg', 'selected_images_dog_cat/wheaten_terrier_140.jpg', 'selected_images_dog_cat/wheaten_terrier_141.jpg', 'selected_images_dog_cat/wheaten_terrier_142.jpg', 'selected_images_dog_cat/wheaten_terrier_143.jpg', 'selected_images_dog_cat/wheaten_terrier_144.jpg', 'selected_images_dog_cat/wheaten_terrier_145.jpg', 'selected_images_dog_cat/wheaten_terrier_146.jpg', 'selected_images_dog_cat/wheaten_terrier_147.jpg', 'selected_images_dog_cat/wheaten_terrier_148.jpg', 'selected_images_dog_cat/wheaten_terrier_149.jpg', 'selected_images_dog_cat/wheaten_terrier_15.jpg', 'selected_images_dog_cat/wheaten_terrier_150.jpg', 'selected_images_dog_cat/wheaten_terrier_151.jpg', 'selected_images_dog_cat/wheaten_terrier_152.jpg', 'selected_images_dog_cat/wheaten_terrier_153.jpg', 'selected_images_dog_cat/wheaten_terrier_154.jpg', 'selected_images_dog_cat/wheaten_terrier_155.jpg', 'selected_images_dog_cat/wheaten_terrier_156.jpg', 'selected_images_dog_cat/wheaten_terrier_157.jpg', 'selected_images_dog_cat/wheaten_terrier_158.jpg', 'selected_images_dog_cat/wheaten_terrier_159.jpg', 'selected_images_dog_cat/wheaten_terrier_16.jpg', 'selected_images_dog_cat/wheaten_terrier_160.jpg', 'selected_images_dog_cat/wheaten_terrier_161.jpg', 'selected_images_dog_cat/wheaten_terrier_162.jpg', 'selected_images_dog_cat/wheaten_terrier_163.jpg', 'selected_images_dog_cat/wheaten_terrier_164.jpg', 'selected_images_dog_cat/wheaten_terrier_165.jpg', 'selected_images_dog_cat/wheaten_terrier_166.jpg', 'selected_images_dog_cat/wheaten_terrier_167.jpg', 'selected_images_dog_cat/wheaten_terrier_168.jpg', 'selected_images_dog_cat/wheaten_terrier_169.jpg', 'selected_images_dog_cat/wheaten_terrier_17.jpg', 'selected_images_dog_cat/wheaten_terrier_170.jpg', 'selected_images_dog_cat/wheaten_terrier_171.jpg', 'selected_images_dog_cat/wheaten_terrier_172.jpg', 'selected_images_dog_cat/wheaten_terrier_173.jpg', 'selected_images_dog_cat/wheaten_terrier_174.jpg', 'selected_images_dog_cat/wheaten_terrier_175.jpg', 'selected_images_dog_cat/wheaten_terrier_176.jpg', 'selected_images_dog_cat/wheaten_terrier_177.jpg', 'selected_images_dog_cat/wheaten_terrier_178.jpg', 'selected_images_dog_cat/wheaten_terrier_179.jpg', 'selected_images_dog_cat/wheaten_terrier_18.jpg', 'selected_images_dog_cat/wheaten_terrier_180.jpg', 'selected_images_dog_cat/wheaten_terrier_181.jpg', 'selected_images_dog_cat/wheaten_terrier_182.jpg', 'selected_images_dog_cat/wheaten_terrier_183.jpg', 'selected_images_dog_cat/wheaten_terrier_184.jpg', 'selected_images_dog_cat/wheaten_terrier_185.jpg', 'selected_images_dog_cat/wheaten_terrier_186.jpg', 'selected_images_dog_cat/wheaten_terrier_187.jpg', 'selected_images_dog_cat/wheaten_terrier_188.jpg', 'selected_images_dog_cat/wheaten_terrier_189.jpg', 'selected_images_dog_cat/wheaten_terrier_19.jpg', 'selected_images_dog_cat/wheaten_terrier_190.jpg', 'selected_images_dog_cat/wheaten_terrier_191.jpg', 'selected_images_dog_cat/wheaten_terrier_192.jpg', 'selected_images_dog_cat/wheaten_terrier_193.jpg', 'selected_images_dog_cat/wheaten_terrier_194.jpg', 'selected_images_dog_cat/wheaten_terrier_195.jpg', 'selected_images_dog_cat/wheaten_terrier_196.jpg', 'selected_images_dog_cat/wheaten_terrier_197.jpg', 'selected_images_dog_cat/wheaten_terrier_198.jpg', 'selected_images_dog_cat/wheaten_terrier_199.jpg', 'selected_images_dog_cat/wheaten_terrier_2.jpg', 'selected_images_dog_cat/wheaten_terrier_20.jpg', 'selected_images_dog_cat/wheaten_terrier_200.jpg', 'selected_images_dog_cat/wheaten_terrier_21.jpg', 'selected_images_dog_cat/wheaten_terrier_22.jpg', 'selected_images_dog_cat/wheaten_terrier_23.jpg', 'selected_images_dog_cat/wheaten_terrier_24.jpg', 'selected_images_dog_cat/wheaten_terrier_25.jpg', 'selected_images_dog_cat/wheaten_terrier_26.jpg', 'selected_images_dog_cat/wheaten_terrier_27.jpg', 'selected_images_dog_cat/wheaten_terrier_28.jpg', 'selected_images_dog_cat/wheaten_terrier_29.jpg', 'selected_images_dog_cat/wheaten_terrier_3.jpg', 'selected_images_dog_cat/wheaten_terrier_30.jpg', 'selected_images_dog_cat/wheaten_terrier_31.jpg', 'selected_images_dog_cat/wheaten_terrier_32.jpg', 'selected_images_dog_cat/wheaten_terrier_33.jpg', 'selected_images_dog_cat/wheaten_terrier_34.jpg', 'selected_images_dog_cat/wheaten_terrier_35.jpg', 'selected_images_dog_cat/wheaten_terrier_36.jpg', 'selected_images_dog_cat/wheaten_terrier_37.jpg', 'selected_images_dog_cat/wheaten_terrier_38.jpg', 'selected_images_dog_cat/wheaten_terrier_39.jpg', 'selected_images_dog_cat/wheaten_terrier_4.jpg', 'selected_images_dog_cat/wheaten_terrier_40.jpg', 'selected_images_dog_cat/wheaten_terrier_41.jpg', 'selected_images_dog_cat/wheaten_terrier_42.jpg', 'selected_images_dog_cat/wheaten_terrier_43.jpg', 'selected_images_dog_cat/wheaten_terrier_44.jpg', 'selected_images_dog_cat/wheaten_terrier_45.jpg', 'selected_images_dog_cat/wheaten_terrier_46.jpg', 'selected_images_dog_cat/wheaten_terrier_47.jpg', 'selected_images_dog_cat/wheaten_terrier_48.jpg', 'selected_images_dog_cat/wheaten_terrier_49.jpg', 'selected_images_dog_cat/wheaten_terrier_5.jpg', 'selected_images_dog_cat/wheaten_terrier_50.jpg', 'selected_images_dog_cat/wheaten_terrier_51.jpg', 'selected_images_dog_cat/wheaten_terrier_52.jpg', 'selected_images_dog_cat/wheaten_terrier_53.jpg', 'selected_images_dog_cat/wheaten_terrier_54.jpg', 'selected_images_dog_cat/wheaten_terrier_55.jpg', 'selected_images_dog_cat/wheaten_terrier_56.jpg', 'selected_images_dog_cat/wheaten_terrier_57.jpg', 'selected_images_dog_cat/wheaten_terrier_58.jpg', 'selected_images_dog_cat/wheaten_terrier_59.jpg', 'selected_images_dog_cat/wheaten_terrier_6.jpg', 'selected_images_dog_cat/wheaten_terrier_60.jpg', 'selected_images_dog_cat/wheaten_terrier_61.jpg', 'selected_images_dog_cat/wheaten_terrier_62.jpg', 'selected_images_dog_cat/wheaten_terrier_63.jpg', 'selected_images_dog_cat/wheaten_terrier_64.jpg', 'selected_images_dog_cat/wheaten_terrier_65.jpg', 'selected_images_dog_cat/wheaten_terrier_66.jpg', 'selected_images_dog_cat/wheaten_terrier_67.jpg', 'selected_images_dog_cat/wheaten_terrier_68.jpg', 'selected_images_dog_cat/wheaten_terrier_69.jpg', 'selected_images_dog_cat/wheaten_terrier_7.jpg', 'selected_images_dog_cat/wheaten_terrier_70.jpg', 'selected_images_dog_cat/wheaten_terrier_71.jpg', 'selected_images_dog_cat/wheaten_terrier_72.jpg', 'selected_images_dog_cat/wheaten_terrier_73.jpg', 'selected_images_dog_cat/wheaten_terrier_74.jpg', 'selected_images_dog_cat/wheaten_terrier_75.jpg', 'selected_images_dog_cat/wheaten_terrier_76.jpg', 'selected_images_dog_cat/wheaten_terrier_77.jpg', 'selected_images_dog_cat/wheaten_terrier_78.jpg', 'selected_images_dog_cat/wheaten_terrier_79.jpg', 'selected_images_dog_cat/wheaten_terrier_8.jpg', 'selected_images_dog_cat/wheaten_terrier_80.jpg', 'selected_images_dog_cat/wheaten_terrier_81.jpg', 'selected_images_dog_cat/wheaten_terrier_82.jpg', 'selected_images_dog_cat/wheaten_terrier_83.jpg', 'selected_images_dog_cat/wheaten_terrier_84.jpg', 'selected_images_dog_cat/wheaten_terrier_85.jpg', 'selected_images_dog_cat/wheaten_terrier_86.jpg', 'selected_images_dog_cat/wheaten_terrier_87.jpg', 'selected_images_dog_cat/wheaten_terrier_88.jpg', 'selected_images_dog_cat/wheaten_terrier_89.jpg', 'selected_images_dog_cat/wheaten_terrier_9.jpg', 'selected_images_dog_cat/wheaten_terrier_90.jpg', 'selected_images_dog_cat/wheaten_terrier_91.jpg', 'selected_images_dog_cat/wheaten_terrier_92.jpg', 'selected_images_dog_cat/wheaten_terrier_93.jpg', 'selected_images_dog_cat/wheaten_terrier_94.jpg', 'selected_images_dog_cat/wheaten_terrier_95.jpg', 'selected_images_dog_cat/wheaten_terrier_96.jpg', 'selected_images_dog_cat/wheaten_terrier_97.jpg', 'selected_images_dog_cat/wheaten_terrier_98.jpg', 'selected_images_dog_cat/wheaten_terrier_99.jpg']\n"
     ]
    }
   ],
   "source": [
    "# Defina os diretórios\n",
    "source_dir = 'selected_images_dog_cat'\n",
    "\n",
    "uploaded_images = []\n",
    "# Percorra os arquivos no diretório de origem\n",
    "for filename in os.listdir(source_dir):\n",
    "    source_file = os.path.join(source_dir, filename)\n",
    "    source_file = source_file.replace('\\\\', '/')\n",
    "    uploaded_images.append(source_file)\n",
    "\n",
    "print(uploaded_images)"
   ]
  },
  {
   "cell_type": "code",
   "execution_count": 4,
   "metadata": {},
   "outputs": [
    {
     "name": "stdout",
     "output_type": "stream",
     "text": [
      "400\n",
      "398\n",
      "798\n",
      "['cat', 'cat', 'cat', 'cat', 'cat', 'cat', 'cat', 'cat', 'cat', 'cat', 'cat', 'cat', 'cat', 'cat', 'cat', 'cat', 'cat', 'cat', 'cat', 'cat', 'cat', 'cat', 'cat', 'cat', 'cat', 'cat', 'cat', 'cat', 'cat', 'cat', 'cat', 'cat', 'cat', 'cat', 'cat', 'cat', 'cat', 'cat', 'cat', 'cat', 'cat', 'cat', 'cat', 'cat', 'cat', 'cat', 'cat', 'cat', 'cat', 'cat', 'cat', 'cat', 'cat', 'cat', 'cat', 'cat', 'cat', 'cat', 'cat', 'cat', 'cat', 'cat', 'cat', 'cat', 'cat', 'cat', 'cat', 'cat', 'cat', 'cat', 'cat', 'cat', 'cat', 'cat', 'cat', 'cat', 'cat', 'cat', 'cat', 'cat', 'cat', 'cat', 'cat', 'cat', 'cat', 'cat', 'cat', 'cat', 'cat', 'cat', 'cat', 'cat', 'cat', 'cat', 'cat', 'cat', 'cat', 'cat', 'cat', 'cat', 'cat', 'cat', 'cat', 'cat', 'cat', 'cat', 'cat', 'cat', 'cat', 'cat', 'cat', 'cat', 'cat', 'cat', 'cat', 'cat', 'cat', 'cat', 'cat', 'cat', 'cat', 'cat', 'cat', 'cat', 'cat', 'cat', 'cat', 'cat', 'cat', 'cat', 'cat', 'cat', 'cat', 'cat', 'cat', 'cat', 'cat', 'cat', 'cat', 'cat', 'cat', 'cat', 'cat', 'cat', 'cat', 'cat', 'cat', 'cat', 'cat', 'cat', 'cat', 'cat', 'cat', 'cat', 'cat', 'cat', 'cat', 'cat', 'cat', 'cat', 'cat', 'cat', 'cat', 'cat', 'cat', 'cat', 'cat', 'cat', 'cat', 'cat', 'cat', 'cat', 'cat', 'cat', 'cat', 'cat', 'cat', 'cat', 'cat', 'cat', 'cat', 'cat', 'cat', 'cat', 'cat', 'cat', 'cat', 'cat', 'cat', 'cat', 'cat', 'cat', 'cat', 'cat', 'cat', 'cat', 'cat', 'cat', 'dog', 'dog', 'dog', 'dog', 'dog', 'dog', 'dog', 'dog', 'dog', 'dog', 'dog', 'dog', 'dog', 'dog', 'dog', 'dog', 'dog', 'dog', 'dog', 'dog', 'dog', 'dog', 'dog', 'dog', 'dog', 'dog', 'dog', 'dog', 'dog', 'dog', 'dog', 'dog', 'dog', 'dog', 'dog', 'dog', 'dog', 'dog', 'dog', 'dog', 'dog', 'dog', 'dog', 'dog', 'dog', 'dog', 'dog', 'dog', 'dog', 'dog', 'dog', 'dog', 'dog', 'dog', 'dog', 'dog', 'dog', 'dog', 'dog', 'dog', 'dog', 'dog', 'dog', 'dog', 'dog', 'dog', 'dog', 'dog', 'dog', 'dog', 'dog', 'dog', 'dog', 'dog', 'dog', 'dog', 'dog', 'dog', 'dog', 'dog', 'dog', 'dog', 'dog', 'dog', 'dog', 'dog', 'dog', 'dog', 'dog', 'dog', 'dog', 'dog', 'dog', 'dog', 'dog', 'dog', 'dog', 'dog', 'dog', 'dog', 'dog', 'dog', 'dog', 'dog', 'dog', 'dog', 'dog', 'dog', 'dog', 'dog', 'dog', 'dog', 'dog', 'dog', 'dog', 'dog', 'dog', 'dog', 'dog', 'dog', 'dog', 'dog', 'dog', 'dog', 'dog', 'dog', 'dog', 'dog', 'dog', 'dog', 'dog', 'dog', 'dog', 'dog', 'dog', 'dog', 'dog', 'dog', 'dog', 'dog', 'dog', 'dog', 'dog', 'dog', 'dog', 'dog', 'dog', 'dog', 'dog', 'dog', 'dog', 'dog', 'dog', 'dog', 'dog', 'dog', 'dog', 'dog', 'dog', 'dog', 'dog', 'dog', 'dog', 'dog', 'dog', 'dog', 'dog', 'dog', 'dog', 'dog', 'dog', 'dog', 'dog', 'dog', 'dog', 'dog', 'dog', 'dog', 'dog', 'dog', 'dog', 'dog', 'dog', 'dog', 'dog', 'dog', 'dog', 'dog', 'dog', 'dog', 'dog', 'dog', 'dog', 'dog', 'dog', 'dog', 'dog', 'dog', 'dog', 'dog', 'cat', 'cat', 'cat', 'cat', 'cat', 'cat', 'cat', 'cat', 'cat', 'cat', 'cat', 'cat', 'cat', 'cat', 'cat', 'cat', 'cat', 'cat', 'cat', 'cat', 'cat', 'cat', 'cat', 'cat', 'cat', 'cat', 'cat', 'cat', 'cat', 'cat', 'cat', 'cat', 'cat', 'cat', 'cat', 'cat', 'cat', 'cat', 'cat', 'cat', 'cat', 'cat', 'cat', 'cat', 'cat', 'cat', 'cat', 'cat', 'cat', 'cat', 'cat', 'cat', 'cat', 'cat', 'cat', 'cat', 'cat', 'cat', 'cat', 'cat', 'cat', 'cat', 'cat', 'cat', 'cat', 'cat', 'cat', 'cat', 'cat', 'cat', 'cat', 'cat', 'cat', 'cat', 'cat', 'cat', 'cat', 'cat', 'cat', 'cat', 'cat', 'cat', 'cat', 'cat', 'cat', 'cat', 'cat', 'cat', 'cat', 'cat', 'cat', 'cat', 'cat', 'cat', 'cat', 'cat', 'cat', 'cat', 'cat', 'cat', 'cat', 'cat', 'cat', 'cat', 'cat', 'cat', 'cat', 'cat', 'cat', 'cat', 'cat', 'cat', 'cat', 'cat', 'cat', 'cat', 'cat', 'cat', 'cat', 'cat', 'cat', 'cat', 'cat', 'cat', 'cat', 'cat', 'cat', 'cat', 'cat', 'cat', 'cat', 'cat', 'cat', 'cat', 'cat', 'cat', 'cat', 'cat', 'cat', 'cat', 'cat', 'cat', 'cat', 'cat', 'cat', 'cat', 'cat', 'cat', 'cat', 'cat', 'cat', 'cat', 'cat', 'cat', 'cat', 'cat', 'cat', 'cat', 'cat', 'cat', 'cat', 'cat', 'cat', 'cat', 'cat', 'cat', 'cat', 'cat', 'cat', 'cat', 'cat', 'cat', 'cat', 'cat', 'cat', 'cat', 'cat', 'cat', 'cat', 'cat', 'cat', 'cat', 'cat', 'cat', 'cat', 'cat', 'cat', 'cat', 'cat', 'cat', 'cat', 'cat', 'cat', 'cat', 'cat', 'cat', 'cat', 'cat', 'cat', 'cat', 'dog', 'dog', 'dog', 'dog', 'dog', 'dog', 'dog', 'dog', 'dog', 'dog', 'dog', 'dog', 'dog', 'dog', 'dog', 'dog', 'dog', 'dog', 'dog', 'dog', 'dog', 'dog', 'dog', 'dog', 'dog', 'dog', 'dog', 'dog', 'dog', 'dog', 'dog', 'dog', 'dog', 'dog', 'dog', 'dog', 'dog', 'dog', 'dog', 'dog', 'dog', 'dog', 'dog', 'dog', 'dog', 'dog', 'dog', 'dog', 'dog', 'dog', 'dog', 'dog', 'dog', 'dog', 'dog', 'dog', 'dog', 'dog', 'dog', 'dog', 'dog', 'dog', 'dog', 'dog', 'dog', 'dog', 'dog', 'dog', 'dog', 'dog', 'dog', 'dog', 'dog', 'dog', 'dog', 'dog', 'dog', 'dog', 'dog', 'dog', 'dog', 'dog', 'dog', 'dog', 'dog', 'dog', 'dog', 'dog', 'dog', 'dog', 'dog', 'dog', 'dog', 'dog', 'dog', 'dog', 'dog', 'dog', 'dog', 'dog', 'dog', 'dog', 'dog', 'dog', 'dog', 'dog', 'dog', 'dog', 'dog', 'dog', 'dog', 'dog', 'dog', 'dog', 'dog', 'dog', 'dog', 'dog', 'dog', 'dog', 'dog', 'dog', 'dog', 'dog', 'dog', 'dog', 'dog', 'dog', 'dog', 'dog', 'dog', 'dog', 'dog', 'dog', 'dog', 'dog', 'dog', 'dog', 'dog', 'dog', 'dog', 'dog', 'dog', 'dog', 'dog', 'dog', 'dog', 'dog', 'dog', 'dog', 'dog', 'dog', 'dog', 'dog', 'dog', 'dog', 'dog', 'dog', 'dog', 'dog', 'dog', 'dog', 'dog', 'dog', 'dog', 'dog', 'dog', 'dog', 'dog', 'dog', 'dog', 'dog', 'dog', 'dog', 'dog', 'dog', 'dog', 'dog', 'dog', 'dog', 'dog', 'dog', 'dog', 'dog', 'dog', 'dog', 'dog', 'dog', 'dog', 'dog', 'dog', 'dog', 'dog', 'dog', 'dog', 'dog', 'dog', 'dog', 'dog', 'dog']\n"
     ]
    }
   ],
   "source": [
    "# Define a função para determinar a classe com base no nome do arquivo\n",
    "def determine_class(filename):\n",
    "    if 'boxer' in filename or 'wheaten_terrier' in filename:\n",
    "        return 'dog'\n",
    "    elif 'Siamese' in filename or 'Abyssinian' in filename:\n",
    "        return 'cat'\n",
    "    else:\n",
    "        return 'unknown'\n",
    "\n",
    "# Cria uma nova coluna 'Class' no dataset\n",
    "classes = [determine_class(filename) for filename in uploaded_images]\n",
    "\n",
    "# Exibe as classes\n",
    "print(classes.count('dog'))\n",
    "print(classes.count('cat'))\n",
    "print(len(classes))\n",
    "print(classes)"
   ]
  },
  {
   "cell_type": "code",
   "execution_count": 5,
   "metadata": {},
   "outputs": [
    {
     "name": "stdout",
     "output_type": "stream",
     "text": [
      "File 'metrics_bagging_models.json' already exists.\n",
      "File 'metrics_bagging_models_05.json' already exists.\n",
      "File 'metrics_boosting_models.json' already exists.\n",
      "File 'metrics_random_forest_models.json' already exists.\n",
      "File 'metrics_stacking_models.json' created with initial content.\n",
      "File 'metrics_voting_models.json' created with initial content.\n"
     ]
    }
   ],
   "source": [
    "import os\n",
    "import json\n",
    "\n",
    "file_metrics_names = ['bagging_models', 'bagging_models_05', 'boosting_models', 'random_forest_models', 'stacking_models', 'voting_models']\n",
    "\n",
    "for model in file_metrics_names:\n",
    "    # Define the filename\n",
    "    filename = f'metrics_{model}.json'\n",
    "\n",
    "    # Check if the file exists\n",
    "    if not os.path.exists(filename):\n",
    "\n",
    "        # Create and write the initial content to the file\n",
    "        open(filename, 'w').close()\n",
    "\n",
    "        print(f\"File '{filename}' created with initial content.\")\n",
    "    else:\n",
    "        print(f\"File '{filename}' already exists.\")\n"
   ]
  },
  {
   "cell_type": "code",
   "execution_count": 6,
   "metadata": {},
   "outputs": [],
   "source": [
    "filename = 'features.json'\n",
    "\n",
    "features_dict = {}\n",
    "\n",
    "try:\n",
    "    with open('features.json', 'r') as f:\n",
    "        features_dict = json.load(f)\n",
    "except Exception:\n",
    "    print(\"Maybe you didn't run 'extrair_features.ipynb' first, it should be run before this one.\")"
   ]
  },
  {
   "cell_type": "code",
   "execution_count": 11,
   "metadata": {},
   "outputs": [],
   "source": [
    "import re\n",
    "\n",
    "estimator_names = {\n",
    "    'DecisionTreeClassifier': 'AD',\n",
    "    'KNeighborsClassifier': 'k-NN',\n",
    "    'GaussianNB': 'NB',\n",
    "    'MLPClassifier': 'MLP',\n",
    "    'StackingClassifier': 'Stacking',\n",
    "    'VotingClassifier': 'Voting',\n",
    "}\n",
    "\n",
    "def run_experiments(models, model_name):\n",
    "    metrics_dict = {}\n",
    "\n",
    "    # Iterate through the dictionary to get both the name and the variable\n",
    "    for feature_name, feature_data in features_dict.items():\n",
    "        for model in models:\n",
    "\n",
    "            estimators = model.get_params().get('estimators', 'default')\n",
    "\n",
    "            criterion_name = model.get_params().get('criterion', 'default')\n",
    "            print(f\"Criterion name: {criterion_name}\")\n",
    "\n",
    "\n",
    "            estimator_name = re.match(r'(\\w+)', str(model.estimator)).group(1) if hasattr(model, 'estimator') else 'None'\n",
    "            estimator_name = estimator_names[estimator_name] if estimator_name in estimator_names else estimator_name\n",
    "            print(f\"Estimator name: {estimator_name}\")\n",
    "\n",
    "\n",
    "            n_estimators = model.get_params().get('n_estimators', 'default')\n",
    "            print(f\"Number of estimators: {n_estimators}\")\n",
    "\n",
    "\n",
    "            model_wrapper = ModelWrapper(model, feature_data, classes, grid_search=True)\n",
    "            print(f\"Training model with feature set: {feature_name}\")\n",
    "            name = ''\n",
    "            if criterion_name == 'default':\n",
    "                if estimators == 'default':\n",
    "                    name = estimator_name\n",
    "                else:\n",
    "                    name = len(estimators)\n",
    "            else:\n",
    "                name = criterion_name\n",
    "            model_wrapper.model_train('kfold')\n",
    "            metrics_dict.update({f\"{feature_name}_kfold_{name}_{n_estimators}\": model_wrapper.metrics})\n",
    "            model_wrapper.model_train('holdout')\n",
    "            metrics_dict.update({f\"{feature_name}_holdout_{name}_{n_estimators}\": model_wrapper.metrics})\n",
    "        \n",
    "\n",
    "    with open(f'./metrics_{model_name}.json', 'w') as f:\n",
    "        json.dump(metrics_dict, f, indent=4)"
   ]
  },
  {
   "cell_type": "code",
   "execution_count": null,
   "metadata": {},
   "outputs": [],
   "source": [
    "bagging_models = [\n",
    "    *[BaggingClassifier(estimator=DecisionTreeClassifier(max_depth=5), n_estimators=i) for i in [10,20,30]],\n",
    "    *[BaggingClassifier(estimator=KNeighborsClassifier(n_neighbors=15), n_estimators=i) for i in [10,20,30]],\n",
    "    *[BaggingClassifier(estimator=GaussianNB(), n_estimators=i) for i in [10,20,30]],\n",
    "    *[BaggingClassifier(estimator=MLPClassifier(activation=\"relu\",\n",
    "                                                hidden_layer_sizes=(100,50),\n",
    "                                                learning_rate_init=0.0001,\n",
    "                                                max_iter=500,\n",
    "                                                solver=\"sgd\"), n_estimators=i) for i in [10,20,30]],\n",
    "]\n",
    "\n",
    "run_experiments(bagging_models, 'bagging_models')"
   ]
  },
  {
   "cell_type": "code",
   "execution_count": null,
   "metadata": {},
   "outputs": [],
   "source": [
    "bagging_models_05 = [\n",
    "    *[BaggingClassifier(estimator=DecisionTreeClassifier(max_depth=5), n_estimators=i, max_features=0.5) for i in [10,20,30]],\n",
    "    *[BaggingClassifier(estimator=KNeighborsClassifier(n_neighbors=15), n_estimators=i, max_features=0.5) for i in [10,20,30]],\n",
    "    *[BaggingClassifier(estimator=GaussianNB(), n_estimators=i, max_features=0.5) for i in [10,20,30]],\n",
    "    *[BaggingClassifier(estimator=MLPClassifier(activation=\"relu\",\n",
    "                                                hidden_layer_sizes=(100,50),\n",
    "                                                learning_rate_init=0.0001,\n",
    "                                                max_iter=500,\n",
    "                                                solver=\"sgd\"), n_estimators=i, max_features=0.5) for i in [10,20,30]],\n",
    "]\n",
    "\n",
    "run_experiments(bagging_models_05, 'bagging_models_05')"
   ]
  },
  {
   "cell_type": "code",
   "execution_count": null,
   "metadata": {},
   "outputs": [],
   "source": [
    "boosting_models = [\n",
    "    *[AdaBoostClassifier(estimator=DecisionTreeClassifier(max_depth=5), n_estimators=i) for i in [10,20,30]],\n",
    "    *[AdaBoostClassifier(estimator=GaussianNB(), n_estimators=i) for i in [10,20,30]]\n",
    "]\n",
    "\n",
    "run_experiments(boosting_models, 'boosting_models')"
   ]
  },
  {
   "cell_type": "code",
   "execution_count": null,
   "metadata": {},
   "outputs": [],
   "source": [
    "random_forest_models = [\n",
    "    *[RandomForestClassifier(criterion='gini', n_estimators=i) for i in [10,20,30,100]],\n",
    "    *[RandomForestClassifier(criterion='entropy', n_estimators=i) for i in [10,20,30,100]],\n",
    "    *[RandomForestClassifier(criterion='log_loss', n_estimators=i) for i in [10,20,30,100]],\n",
    "]\n",
    "\n",
    "run_experiments(random_forest_models, 'random_forest_models')"
   ]
  },
  {
   "cell_type": "code",
   "execution_count": 15,
   "metadata": {},
   "outputs": [],
   "source": [
    "def choose_estimators():\n",
    "    final_estimators = []\n",
    "\n",
    "    mlp_classifiers = [(f'MLP_{i}', MLPClassifier(activation=\"relu\",\n",
    "                                                hidden_layer_sizes=i,\n",
    "                                                learning_rate_init=0.0001,\n",
    "                                                max_iter=500,\n",
    "                                                solver=\"adam\")) for i in [10,20,30]]\n",
    "    \n",
    "    knn_classifiers = [(f'kNN_{i}',KNeighborsClassifier(n_neighbors=i)) for i in range(5, 15)]\n",
    "\n",
    "    ad_classifiers = [(f'AD_{i}', DecisionTreeClassifier(max_depth=i)) for i in range(2, 10)]\n",
    "\n",
    "    nb_classifiers = [('NB', GaussianNB())]\n",
    "\n",
    "    classifiers = mlp_classifiers + knn_classifiers + ad_classifiers + nb_classifiers\n",
    "    numpy.random.shuffle(classifiers)\n",
    "\n",
    "\n",
    "    for i in range (1, 5):\n",
    "        \n",
    "        chosen_estimators = classifiers[:i*5]\n",
    "        # for _ in range (1, i * 5 + 1):\n",
    "        #     mlp_params = {\n",
    "        #         'activation': 'relu',\n",
    "        #         'learning_rate_init': 0.001,\n",
    "        #         'hidden_layer_sizes': numpy.random.choice(range(10, 50, 10)),\n",
    "        #         'max_iter': 500,\n",
    "        #         'solver': numpy.random.choice(['adam', 'sgd'])\n",
    "        #     }\n",
    "\n",
    "        #     knn_params = {\n",
    "        #         'n_neighbors': numpy.random.choice(range(5, 20))\n",
    "        #     }\n",
    "\n",
    "        #     ad_params = {\n",
    "        #         'max_depth': numpy.random.choice(range(1, 15))\n",
    "        #     }\n",
    "\n",
    "        #     estimators = [('MLP', MLPClassifier(**mlp_params)),\n",
    "        #                 ('kNN', KNeighborsClassifier(**knn_params)),\n",
    "        #                 ('NB', GaussianNB()),\n",
    "        #                 ('AD', DecisionTreeClassifier(**ad_params))]\n",
    "            \n",
    "        #     chosen_estimators.append(numpy.random.choice(estimators))\n",
    "        \n",
    "        final_estimators.append(chosen_estimators)\n",
    "    \n",
    "    print(final_estimators)\n",
    "    return final_estimators"
   ]
  },
  {
   "cell_type": "code",
   "execution_count": 16,
   "metadata": {},
   "outputs": [
    {
     "name": "stdout",
     "output_type": "stream",
     "text": [
      "[[('NB', GaussianNB()), ('kNN_8', KNeighborsClassifier(n_neighbors=8)), ('AD_8', DecisionTreeClassifier(max_depth=8)), ('kNN_14', KNeighborsClassifier(n_neighbors=14)), ('MLP_20', MLPClassifier(hidden_layer_sizes=20, learning_rate_init=0.0001, max_iter=500))], [('NB', GaussianNB()), ('kNN_8', KNeighborsClassifier(n_neighbors=8)), ('AD_8', DecisionTreeClassifier(max_depth=8)), ('kNN_14', KNeighborsClassifier(n_neighbors=14)), ('MLP_20', MLPClassifier(hidden_layer_sizes=20, learning_rate_init=0.0001, max_iter=500)), ('kNN_5', KNeighborsClassifier()), ('kNN_7', KNeighborsClassifier(n_neighbors=7)), ('kNN_10', KNeighborsClassifier(n_neighbors=10)), ('kNN_13', KNeighborsClassifier(n_neighbors=13)), ('AD_2', DecisionTreeClassifier(max_depth=2))], [('NB', GaussianNB()), ('kNN_8', KNeighborsClassifier(n_neighbors=8)), ('AD_8', DecisionTreeClassifier(max_depth=8)), ('kNN_14', KNeighborsClassifier(n_neighbors=14)), ('MLP_20', MLPClassifier(hidden_layer_sizes=20, learning_rate_init=0.0001, max_iter=500)), ('kNN_5', KNeighborsClassifier()), ('kNN_7', KNeighborsClassifier(n_neighbors=7)), ('kNN_10', KNeighborsClassifier(n_neighbors=10)), ('kNN_13', KNeighborsClassifier(n_neighbors=13)), ('AD_2', DecisionTreeClassifier(max_depth=2)), ('AD_5', DecisionTreeClassifier(max_depth=5)), ('AD_3', DecisionTreeClassifier(max_depth=3)), ('AD_6', DecisionTreeClassifier(max_depth=6)), ('kNN_9', KNeighborsClassifier(n_neighbors=9)), ('AD_7', DecisionTreeClassifier(max_depth=7))], [('NB', GaussianNB()), ('kNN_8', KNeighborsClassifier(n_neighbors=8)), ('AD_8', DecisionTreeClassifier(max_depth=8)), ('kNN_14', KNeighborsClassifier(n_neighbors=14)), ('MLP_20', MLPClassifier(hidden_layer_sizes=20, learning_rate_init=0.0001, max_iter=500)), ('kNN_5', KNeighborsClassifier()), ('kNN_7', KNeighborsClassifier(n_neighbors=7)), ('kNN_10', KNeighborsClassifier(n_neighbors=10)), ('kNN_13', KNeighborsClassifier(n_neighbors=13)), ('AD_2', DecisionTreeClassifier(max_depth=2)), ('AD_5', DecisionTreeClassifier(max_depth=5)), ('AD_3', DecisionTreeClassifier(max_depth=3)), ('AD_6', DecisionTreeClassifier(max_depth=6)), ('kNN_9', KNeighborsClassifier(n_neighbors=9)), ('AD_7', DecisionTreeClassifier(max_depth=7)), ('AD_4', DecisionTreeClassifier(max_depth=4)), ('AD_9', DecisionTreeClassifier(max_depth=9)), ('MLP_10', MLPClassifier(hidden_layer_sizes=10, learning_rate_init=0.0001, max_iter=500)), ('MLP_30', MLPClassifier(hidden_layer_sizes=30, learning_rate_init=0.0001, max_iter=500)), ('kNN_11', KNeighborsClassifier(n_neighbors=11))]]\n"
     ]
    }
   ],
   "source": [
    "from sklearn.linear_model import LogisticRegression\n",
    "\n",
    "final_estimators = choose_estimators()\n",
    "        \n",
    "stacking_models = [\n",
    "    *[StackingClassifier(estimators=estimators, final_estimator=LogisticRegression()) for estimators in final_estimators]\n",
    "]\n",
    "\n",
    "run_experiments(stacking_models, 'stacking_models')"
   ]
  },
  {
   "cell_type": "code",
   "execution_count": null,
   "metadata": {},
   "outputs": [],
   "source": [
    "final_estimators = choose_estimators()\n",
    "        \n",
    "stacking_models = [\n",
    "    *[VotingClassifier(estimators=estimators, voting='hard') for estimators in final_estimators]\n",
    "]\n",
    "\n",
    "run_experiments(stacking_models, 'stacking_models')"
   ]
  }
 ],
 "metadata": {
  "kernelspec": {
   "display_name": "tf",
   "language": "python",
   "name": "python3"
  },
  "language_info": {
   "codemirror_mode": {
    "name": "ipython",
    "version": 3
   },
   "file_extension": ".py",
   "mimetype": "text/x-python",
   "name": "python",
   "nbconvert_exporter": "python",
   "pygments_lexer": "ipython3",
   "version": "3.10.13"
  }
 },
 "nbformat": 4,
 "nbformat_minor": 2
}
