{
 "cells": [
  {
   "cell_type": "code",
   "execution_count": 1,
   "metadata": {},
   "outputs": [],
   "source": [
    "from sklearn.tree import DecisionTreeClassifier\n",
    "from sklearn.neighbors import KNeighborsClassifier\n",
    "from sklearn.naive_bayes import GaussianNB, MultinomialNB, ComplementNB\n",
    "from sklearn.neural_network import MLPClassifier\n",
    "\n",
    "from sklearn.ensemble import BaggingClassifier\n",
    "from sklearn.ensemble import AdaBoostClassifier\n",
    "from sklearn.ensemble import RandomForestClassifier\n",
    "\n",
    "import os\n",
    "\n",
    "from algorithm_wrapper import ModelWrapper"
   ]
  },
  {
   "cell_type": "code",
   "execution_count": null,
   "metadata": {},
   "outputs": [],
   "source": [
    "# Defina os diretórios\n",
    "source_dir = 'selected_images_dog_cat'\n",
    "\n",
    "uploaded_images = []\n",
    "# Percorra os arquivos no diretório de origem\n",
    "for filename in os.listdir(source_dir):\n",
    "    source_file = os.path.join(source_dir, filename)\n",
    "    source_file = source_file.replace('\\\\', '/')\n",
    "    uploaded_images.append(source_file)\n",
    "\n",
    "print(uploaded_images)"
   ]
  },
  {
   "cell_type": "code",
   "execution_count": null,
   "metadata": {},
   "outputs": [],
   "source": [
    "# Define a função para determinar a classe com base no nome do arquivo\n",
    "def determine_class(filename):\n",
    "    if 'boxer' in filename or 'wheaten_terrier' in filename:\n",
    "        return 'dog'\n",
    "    elif 'Siamese' in filename or 'Abyssinian' in filename:\n",
    "        return 'cat'\n",
    "    else:\n",
    "        return 'unknown'\n",
    "\n",
    "# Cria uma nova coluna 'Class' no dataset\n",
    "classes = [determine_class(filename) for filename in uploaded_images]\n",
    "\n",
    "# Exibe as classes\n",
    "print(classes.count('dog'))\n",
    "print(classes.count('cat'))\n",
    "print(len(classes))\n",
    "print(classes)"
   ]
  },
  {
   "cell_type": "code",
   "execution_count": null,
   "metadata": {},
   "outputs": [],
   "source": [
    "import os\n",
    "import json\n",
    "\n",
    "file_metrics_names = ['bagging_models', 'bagging_models_05', 'boosting_models', 'random_forest_models']\n",
    "\n",
    "for model in file_metrics_names:\n",
    "    # Define the filename\n",
    "    filename = f'metrics_{model}.json'\n",
    "\n",
    "    # Check if the file exists\n",
    "    if not os.path.exists(filename):\n",
    "\n",
    "        # Create and write the initial content to the file\n",
    "        open(filename, 'w').close()\n",
    "\n",
    "        print(f\"File '{filename}' created with initial content.\")\n",
    "    else:\n",
    "        print(f\"File '{filename}' already exists.\")\n"
   ]
  },
  {
   "cell_type": "code",
   "execution_count": 5,
   "metadata": {},
   "outputs": [],
   "source": [
    "filename = 'features.json'\n",
    "\n",
    "features_dict = {}\n",
    "\n",
    "try:\n",
    "    with open('features.json', 'r') as f:\n",
    "        features_dict = json.load(f)\n",
    "except Exception:\n",
    "    print(\"Maybe you didn't run 'extrair_features.ipynb' first, it should be run before this one.\")"
   ]
  },
  {
   "cell_type": "code",
   "execution_count": 14,
   "metadata": {},
   "outputs": [],
   "source": [
    "import re\n",
    "\n",
    "estimator_names = {\n",
    "    'DecisionTreeClassifier': 'AD',\n",
    "    'KNeighborsClassifier': 'k-NN',\n",
    "    'GaussianNB': 'NB',\n",
    "    'MLPClassifier': 'MLP'\n",
    "}\n",
    "\n",
    "def run_experiments(models, model_name):\n",
    "    metrics_dict = {}\n",
    "\n",
    "    # Iterate through the dictionary to get both the name and the variable\n",
    "    for feature_name, feature_data in features_dict.items():\n",
    "        for model in models:\n",
    "            criterion_name = model.get_params().get('criterion', 'default')\n",
    "            print(f\"Criterion name: {criterion_name}\")\n",
    "            estimator_name = re.match(r'(\\w+)', str(model.estimator)).group(1) if hasattr(model, 'estimator') else 'None'\n",
    "            estimator_name = estimator_names[estimator_name] if estimator_name in estimator_names else estimator_name\n",
    "            print(f\"Estimator name: {estimator_name}\")\n",
    "            n_estimators = model.get_params().get('n_estimators', 'default')\n",
    "            print(f\"Number of estimators: {n_estimators}\")\n",
    "            model_wrapper = ModelWrapper(model, feature_data, classes, grid_search=True)\n",
    "            print(f\"Training model with feature set: {feature_name}\")\n",
    "            name = ''\n",
    "            if criterion_name == 'default':\n",
    "                name = estimator_name\n",
    "            else:\n",
    "                name = criterion_name\n",
    "            model_wrapper.model_train('kfold')\n",
    "            metrics_dict.update({f\"{feature_name}_kfold_{name}_{n_estimators}\": model_wrapper.metrics})\n",
    "            model_wrapper.model_train('holdout')\n",
    "            metrics_dict.update({f\"{feature_name}_holdout_{name}_{n_estimators}\": model_wrapper.metrics})\n",
    "        \n",
    "\n",
    "    with open(f'./metrics_{model_name}.json', 'w') as f:\n",
    "        json.dump(metrics_dict, f, indent=4)"
   ]
  },
  {
   "cell_type": "code",
   "execution_count": null,
   "metadata": {},
   "outputs": [],
   "source": [
    "bagging_models = [\n",
    "    *[BaggingClassifier(estimator=DecisionTreeClassifier(max_depth=5), n_estimators=i) for i in [10,20,30]],\n",
    "    *[BaggingClassifier(estimator=KNeighborsClassifier(n_neighbors=15), n_estimators=i) for i in [10,20,30]],\n",
    "    *[BaggingClassifier(estimator=GaussianNB(), n_estimators=i) for i in [10,20,30]],\n",
    "    *[BaggingClassifier(estimator=MLPClassifier(activation=\"relu\",\n",
    "                                                hidden_layer_sizes=(100,50),\n",
    "                                                learning_rate_init=0.0001,\n",
    "                                                max_iter=500,\n",
    "                                                solver=\"sgd\"), n_estimators=i) for i in [10,20,30]],\n",
    "]\n",
    "\n",
    "run_experiments(bagging_models, 'bagging_models')"
   ]
  },
  {
   "cell_type": "code",
   "execution_count": null,
   "metadata": {},
   "outputs": [],
   "source": [
    "bagging_models_05 = [\n",
    "    *[BaggingClassifier(estimator=DecisionTreeClassifier(max_depth=5), n_estimators=i, max_features=0.5) for i in [10,20,30]],\n",
    "    *[BaggingClassifier(estimator=KNeighborsClassifier(n_neighbors=15), n_estimators=i, max_features=0.5) for i in [10,20,30]],\n",
    "    *[BaggingClassifier(estimator=GaussianNB(), n_estimators=i, max_features=0.5) for i in [10,20,30]],\n",
    "    *[BaggingClassifier(estimator=MLPClassifier(activation=\"relu\",\n",
    "                                                hidden_layer_sizes=(100,50),\n",
    "                                                learning_rate_init=0.0001,\n",
    "                                                max_iter=500,\n",
    "                                                solver=\"sgd\"), n_estimators=i, max_features=0.5) for i in [10,20,30]],\n",
    "]\n",
    "\n",
    "run_experiments(bagging_models_05, 'bagging_models_05')"
   ]
  },
  {
   "cell_type": "code",
   "execution_count": null,
   "metadata": {},
   "outputs": [],
   "source": [
    "boosting_models = [\n",
    "    *[AdaBoostClassifier(estimator=DecisionTreeClassifier(max_depth=5), n_estimators=i) for i in [10,20,30]],\n",
    "    *[AdaBoostClassifier(estimator=GaussianNB(), n_estimators=i) for i in [10,20,30]]\n",
    "]\n",
    "\n",
    "run_experiments(boosting_models, 'boosting_models')"
   ]
  },
  {
   "cell_type": "code",
   "execution_count": null,
   "metadata": {},
   "outputs": [],
   "source": [
    "random_forest_models = [\n",
    "    *[RandomForestClassifier(criterion='gini', n_estimators=i) for i in [10,20,30,100]],\n",
    "    *[RandomForestClassifier(criterion='entropy', n_estimators=i) for i in [10,20,30,100]],\n",
    "    *[RandomForestClassifier(criterion='log_loss', n_estimators=i) for i in [10,20,30,100]],\n",
    "]\n",
    "\n",
    "run_experiments(random_forest_models, 'random_forest_models')"
   ]
  }
 ],
 "metadata": {
  "kernelspec": {
   "display_name": "tf",
   "language": "python",
   "name": "python3"
  },
  "language_info": {
   "codemirror_mode": {
    "name": "ipython",
    "version": 3
   },
   "file_extension": ".py",
   "mimetype": "text/x-python",
   "name": "python",
   "nbconvert_exporter": "python",
   "pygments_lexer": "ipython3",
   "version": "3.10.13"
  }
 },
 "nbformat": 4,
 "nbformat_minor": 2
}
