{
 "cells": [
  {
   "cell_type": "code",
   "execution_count": 1,
   "metadata": {},
   "outputs": [],
   "source": [
    "import os\n",
    "import shutil\n",
    "\n",
    "# Defina os diretórios\n",
    "source_dir = 'images_dog_cat'\n",
    "destination_dir = 'selected_images_dog_cat'\n",
    "\n",
    "# Crie o diretório de destino se não existir\n",
    "if not os.path.exists(destination_dir):\n",
    "    os.makedirs(destination_dir)\n",
    "\n",
    "# Defina os prefixos das raças\n",
    "prefixes = ['boxer', 'wheaten_terrier', 'Siamese', 'Abyssinian']\n",
    "\n",
    "# Percorra os arquivos no diretório de origem\n",
    "for filename in os.listdir(source_dir):\n",
    "    # Verifique se o arquivo começa com algum dos prefixos\n",
    "    if any(filename.startswith(prefix) for prefix in prefixes):\n",
    "        # Caminho completo do arquivo de origem\n",
    "        source_file = os.path.join(source_dir, filename)\n",
    "        # Caminho completo do arquivo de destino\n",
    "        destination_file = os.path.join(destination_dir, filename)\n",
    "        # Mova o arquivo\n",
    "        shutil.move(source_file, destination_file)"
   ]
  }
 ],
 "metadata": {
  "kernelspec": {
   "display_name": "venv",
   "language": "python",
   "name": "python3"
  },
  "language_info": {
   "codemirror_mode": {
    "name": "ipython",
    "version": 3
   },
   "file_extension": ".py",
   "mimetype": "text/x-python",
   "name": "python",
   "nbconvert_exporter": "python",
   "pygments_lexer": "ipython3",
   "version": "3.11.9"
  }
 },
 "nbformat": 4,
 "nbformat_minor": 2
}
