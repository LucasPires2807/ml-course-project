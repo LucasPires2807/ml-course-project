{
 "cells": [
  {
   "cell_type": "code",
   "execution_count": null,
   "metadata": {},
   "outputs": [],
   "source": [
    "from sklearn.naive_bayes import GaussianNB, MultinomialNB, ComplementNB\n",
    "import os\n",
    "\n",
    "from algorithm_wrapper import ModelWrapper"
   ]
  },
  {
   "cell_type": "code",
   "execution_count": null,
   "metadata": {},
   "outputs": [],
   "source": [
    "# Defina os diretórios\n",
    "source_dir = 'selected_images_dog_cat'\n",
    "\n",
    "uploaded_images = []\n",
    "# Percorra os arquivos no diretório de origem\n",
    "for filename in os.listdir(source_dir):\n",
    "    source_file = os.path.join(source_dir, filename)\n",
    "    source_file = source_file.replace('\\\\', '/')\n",
    "    uploaded_images.append(source_file)\n",
    "\n",
    "print(uploaded_images)"
   ]
  },
  {
   "cell_type": "code",
   "execution_count": null,
   "metadata": {},
   "outputs": [],
   "source": [
    "# Define a função para determinar a classe com base no nome do arquivo\n",
    "def determine_class(filename):\n",
    "    if 'boxer' in filename or 'wheaten_terrier' in filename:\n",
    "        return 'dog'\n",
    "    elif 'Siamese' in filename or 'Abyssinian' in filename:\n",
    "        return 'cat'\n",
    "    else:\n",
    "        return 'unknown'\n",
    "\n",
    "# Cria uma nova coluna 'Class' no dataset\n",
    "classes = [determine_class(filename) for filename in uploaded_images]\n",
    "\n",
    "# Exibe as classes\n",
    "print(classes.count('dog'))\n",
    "print(classes.count('cat'))\n",
    "print(len(classes))\n",
    "print(classes)"
   ]
  },
  {
   "cell_type": "code",
   "execution_count": null,
   "metadata": {},
   "outputs": [],
   "source": [
    "import os\n",
    "import json\n",
    "\n",
    "# Define the filename\n",
    "filename = 'metrics.json'\n",
    "\n",
    "# Check if the file exists\n",
    "if not os.path.exists(filename):\n",
    "\n",
    "    # Create and write the initial content to the file\n",
    "    open(filename, 'w').close()\n",
    "\n",
    "    print(f\"File '{filename}' created with initial content.\")\n",
    "else:\n",
    "    print(f\"File '{filename}' already exists.\")\n"
   ]
  },
  {
   "cell_type": "code",
   "execution_count": null,
   "metadata": {},
   "outputs": [],
   "source": [
    "filename = 'features.json'\n",
    "\n",
    "features_dict = {}\n",
    "\n",
    "try:\n",
    "    with open('features.json', 'r') as f:\n",
    "        features_dict = json.load(f)\n",
    "except Exception:\n",
    "    print(\"Maybe you didn't run 'extrair_features.ipynb' first, it should be run before this one.\")"
   ]
  },
  {
   "cell_type": "code",
   "execution_count": null,
   "metadata": {},
   "outputs": [],
   "source": [
    "metrics_dict = {}\n",
    "\n",
    "# Iterate through the dictionary to get both the name and the variable\n",
    "for feature_name, feature_data in features_dict.items():\n",
    "    for model in [GaussianNB, MultinomialNB, ComplementNB]:\n",
    "        model_wrapper = ModelWrapper(model, feature_data, classes)\n",
    "        print(f\"Training model with feature set: {feature_name}\")\n",
    "        model_wrapper.model_train('kfold')\n",
    "        metrics_dict.update({f\"{feature_name}_model={model}\": model_wrapper.metrics})\n",
    "        model_wrapper.model_train('holdout')\n",
    "        metrics_dict.update({f\"{feature_name}_model={model}\": model_wrapper.metrics})\n",
    "\n",
    "with open('./metrics.json', 'w') as f:\n",
    "    json.dump(metrics_dict, f, indent=4)"
   ]
  },
  {
   "cell_type": "code",
   "execution_count": null,
   "metadata": {},
   "outputs": [],
   "source": [
    "metrics_dict"
   ]
  }
 ],
 "metadata": {
  "language_info": {
   "name": "python"
  }
 },
 "nbformat": 4,
 "nbformat_minor": 2
}
